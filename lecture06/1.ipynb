{
 "cells": [
  {
   "cell_type": "code",
   "execution_count": 11,
   "id": "dcde6d1b",
   "metadata": {},
   "outputs": [
    {
     "name": "stderr",
     "output_type": "stream",
     "text": [
      "100%|██████████| 9.91M/9.91M [00:02<00:00, 3.96MB/s]\n",
      "100%|██████████| 28.9k/28.9k [00:00<00:00, 164kB/s]\n",
      "100%|██████████| 1.65M/1.65M [00:01<00:00, 1.41MB/s]\n",
      "100%|██████████| 4.54k/4.54k [00:00<?, ?B/s]\n"
     ]
    },
    {
     "name": "stdout",
     "output_type": "stream",
     "text": [
      "Epoch 01 Train Loss: 0.2024\n",
      "Epoch 02 Train Loss: 0.0874\n",
      "Epoch 03 Train Loss: 0.0609\n",
      "Epoch 04 Train Loss: 0.0475\n",
      "Epoch 05 Train Loss: 0.0391\n",
      "Epoch 06 Train Loss: 0.0299\n",
      "Epoch 07 Train Loss: 0.0276\n",
      "Epoch 08 Train Loss: 0.0242\n",
      "Epoch 09 Train Loss: 0.0216\n",
      "Epoch 10 Train Loss: 0.0193\n",
      "tensor([[1.9432e-25, 1.1366e-22, 5.1681e-22, 3.4511e-11, 5.7690e-21, 1.0000e+00,\n",
      "         1.2540e-16, 6.8880e-22, 2.0674e-18, 5.2394e-13]])\n"
     ]
    }
   ],
   "source": [
    "import torch\n",
    "import torch.nn as nn\n",
    "import torch.optim as optim\n",
    "from torchvision import datasets, transforms\n",
    "from torch.utils.data import DataLoader\n",
    "from PIL import Image\n",
    "\n",
    "transform = transforms. Compose([\n",
    "    transforms.Resize((28, 28)),\n",
    "    transforms.ToTensor(),\n",
    "    transforms.Normalize((0.1307,), (0.3081,))\n",
    "])\n",
    "\n",
    "train_ds = datasets.MNIST(root = 'data', train = True, download = True, transform = transform)\n",
    "test_ds = datasets.MNIST(root = 'data', train = False, download = True, transform = transform)\n",
    "\n",
    "train_loader = DataLoader(train_ds, batch_size = 64, shuffle = True)\n",
    "test_loader = DataLoader(test_ds, batch_size = 1000, shuffle = False)\n",
    "\n",
    "class myModel(nn.Module):\n",
    "    def __init__(self):\n",
    "        super().__init__()\n",
    "        self.flatten = nn.Flatten()\n",
    "        self.net = nn.Sequential(\n",
    "            nn.Linear(28*28, 512),\n",
    "            nn.ReLU(),\n",
    "            nn.Linear(512, 256),\n",
    "            nn.ReLU(),\n",
    "            nn.Linear(256, 10)\n",
    "        )\n",
    "    def forward(self, x):\n",
    "        x = self.flatten(x)\n",
    "        return self.net(x)\n",
    "\n",
    "model = myModel()\n",
    "\n",
    "loss_fn = nn.CrossEntropyLoss()\n",
    "optimizer = optim.Adam(model.parameters(), lr=1e-3)\n",
    "\n",
    "epochs = 10\n",
    "\n",
    "for epoch in range(1, epochs+1):\n",
    "    model.train()\n",
    "    total_loss = 0\n",
    "    for images, labels in train_loader:\n",
    "        optimizer.zero_grad()\n",
    "        logits = model(images)\n",
    "        loss = loss_fn(logits, labels)\n",
    "        loss.backward()\n",
    "        optimizer.step()\n",
    "        total_loss += loss.item()\n",
    "        \n",
    "    print(f'Epoch {epoch:02d} Train Loss: {total_loss/len(train_loader) :.4f}')\n",
    "\n",
    "img = Image.open('numberImage.png').convert('L')\n",
    "to_tensor = transforms.Compose([\n",
    "    transforms.Resize((28, 28)),\n",
    "    transforms.ToTensor(),\n",
    "    transforms.Normalize((0.1307,), (0.3081,))\n",
    "])\n",
    "\n",
    "model.eval()\n",
    "x = to_tensor(img).unsqueeze(0)\n",
    "with torch.no_grad():\n",
    "    logits = model(x)\n",
    "    probs = nn.functional.softmax(logits, dim = 1)\n",
    "\n",
    "print(probs)"
   ]
  }
 ],
 "metadata": {
  "kernelspec": {
   "display_name": "Python (myenv)",
   "language": "python",
   "name": "myenv"
  },
  "language_info": {
   "codemirror_mode": {
    "name": "ipython",
    "version": 3
   },
   "file_extension": ".py",
   "mimetype": "text/x-python",
   "name": "python",
   "nbconvert_exporter": "python",
   "pygments_lexer": "ipython3",
   "version": "3.12.7"
  }
 },
 "nbformat": 4,
 "nbformat_minor": 5
}
