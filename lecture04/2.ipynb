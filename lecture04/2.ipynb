{
 "cells": [
  {
   "cell_type": "code",
   "execution_count": null,
   "id": "a4427411",
   "metadata": {},
   "outputs": [
    {
     "name": "stdout",
     "output_type": "stream",
     "text": [
      "k값별 정확도:\n",
      "k = 1 -> 정확도: 0.71\n",
      "k = 2 -> 정확도: 0.64\n",
      "k = 3 -> 정확도: 0.69\n",
      "k = 4 -> 정확도: 0.62\n",
      "k = 5 -> 정확도: 0.69\n",
      "k = 6 -> 정확도: 0.73\n",
      "k = 7 -> 정확도: 0.80\n",
      "k = 8 -> 정확도: 0.71\n",
      "k = 9 -> 정확도: 0.78\n",
      "k = 10 -> 정확도: 0.76\n",
      "\n",
      "최적의 k값은: 7 (정확도: 0.80)\n"
     ]
    }
   ],
   "source": [
    "import matplotlib.pyplot as plt\n",
    "import numpy as np\n",
    "import pandas as pd\n",
    "from sklearn.datasets import load_iris\n",
    "\n",
    "iris = load_iris()\n",
    "x = iris.data[:, [0,1]]\n",
    "y = iris.target\n",
    "\n",
    "def euclidean_distance(x1, x2):\n",
    "    return np.sqrt(np.sum((x1-x2) ** 2))\n",
    "\n",
    "def knn_predict(x, x_train, y_train, k):\n",
    "    distances = [euclidean_distance(x, xi) for xi in x_train]\n",
    "    k_indices = np.argsort(distances)[:k]\n",
    "    k_labels = y_train[k_indices]\n",
    "    \n",
    "    labels, counts = np.unique(k_labels, return_counts=True)\n",
    "    return labels[np.argmax(counts)]\n",
    "\n",
    "def compute_accuracy(x_val, y_val, x_train, y_train, k):\n",
    "    correct = 0\n",
    "    for x, y in zip(x_val, y_val):\n",
    "        pred = knn_predict(x, x_train, y_train, k)\n",
    "        if pred == y:\n",
    "            correct += 1\n",
    "    return correct / len(y_val)\n",
    "\n",
    "np.random.seed(45)\n",
    "indices = np.random.permutation(len(x))\n",
    "split = int(0.7 * len(x))\n",
    "\n",
    "train_idx = indices[:split]\n",
    "val_idx = indices[split:]\n",
    "\n",
    "x_train, y_train = x[train_idx], y[train_idx]\n",
    "X_val, y_val = x[val_idx], y[val_idx]\n",
    "\n",
    "k_candidates = range(1, 11)\n",
    "best_k = None\n",
    "best_acc = 0.0\n",
    "\n",
    "print(\"k값별 정확도:\")\n",
    "for k in k_candidates:\n",
    "    acc = compute_accuracy(X_val, y_val, x_train, y_train, k)\n",
    "    print(f\"k = {k} -> 정확도: {acc :.2f}\")\n",
    "    if acc > best_acc:\n",
    "        best_acc = acc\n",
    "        best_k = k\n",
    "\n",
    "print(f\"\\n최적의 k값은: {best_k} (정확도: {best_acc :.2f})\")"
   ]
  }
 ],
 "metadata": {
  "kernelspec": {
   "display_name": "Python (myenv)",
   "language": "python",
   "name": "myenv"
  },
  "language_info": {
   "codemirror_mode": {
    "name": "ipython",
    "version": 3
   },
   "file_extension": ".py",
   "mimetype": "text/x-python",
   "name": "python",
   "nbconvert_exporter": "python",
   "pygments_lexer": "ipython3",
   "version": "3.12.7"
  }
 },
 "nbformat": 4,
 "nbformat_minor": 5
}
